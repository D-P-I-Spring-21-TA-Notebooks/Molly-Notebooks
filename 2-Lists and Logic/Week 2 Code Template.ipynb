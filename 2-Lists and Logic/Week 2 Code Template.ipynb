{
 "cells": [
  {
   "cell_type": "markdown",
   "id": "republican-mileage",
   "metadata": {},
   "source": [
    "# Objectives"
   ]
  },
  {
   "cell_type": "markdown",
   "id": "scheduled-french",
   "metadata": {},
   "source": [
    "Understand when to use a for loop and when to use a list comprehension."
   ]
  },
  {
   "cell_type": "markdown",
   "id": "ethical-sector",
   "metadata": {},
   "source": [
    "Practice iterating over values, over indices, and over both at once. "
   ]
  },
  {
   "cell_type": "markdown",
   "id": "dutch-weight",
   "metadata": {},
   "source": [
    "Practice nested for loops."
   ]
  },
  {
   "cell_type": "markdown",
   "id": "apart-saskatchewan",
   "metadata": {},
   "source": [
    "Exercise 1: Subset a list based on whether or not the list values appear in a second list. "
   ]
  },
  {
   "cell_type": "code",
   "execution_count": 1,
   "id": "quality-toronto",
   "metadata": {},
   "outputs": [],
   "source": [
    "all_predictors = ['region', 'age', 'race', 'sex', 'educ', 'job_type']\n",
    "not_significant = ['region', 'sex']\n",
    "significant = []"
   ]
  },
  {
   "cell_type": "markdown",
   "id": "cutting-trademark",
   "metadata": {},
   "source": [
    "Exercise 2: Take a list of singular words and convert them to plural words"
   ]
  },
  {
   "cell_type": "code",
   "execution_count": 5,
   "id": "final-surname",
   "metadata": {},
   "outputs": [],
   "source": [
    "fruits = ['apple', 'banana', 'strawberry']\n",
    "plural_fruits = []"
   ]
  },
  {
   "cell_type": "markdown",
   "id": "catholic-prayer",
   "metadata": {},
   "source": [
    "Exercise 3: In a given list, multiply values by 2 if they are located at an odd index."
   ]
  },
  {
   "cell_type": "code",
   "execution_count": 4,
   "id": "twenty-modeling",
   "metadata": {},
   "outputs": [],
   "source": [
    "my_list = [1, 17, 4, 23, 7, 81]"
   ]
  },
  {
   "cell_type": "markdown",
   "id": "medium-dining",
   "metadata": {},
   "source": [
    "Exercise 4: Iterate over a nested list"
   ]
  },
  {
   "cell_type": "code",
   "execution_count": 2,
   "id": "coastal-criminal",
   "metadata": {},
   "outputs": [],
   "source": [
    "my_array = [[1, 2], [3, 4], [5, 6]]"
   ]
  },
  {
   "cell_type": "code",
   "execution_count": null,
   "id": "respective-steel",
   "metadata": {},
   "outputs": [],
   "source": []
  }
 ],
 "metadata": {
  "kernelspec": {
   "display_name": "Python 3",
   "language": "python",
   "name": "python3"
  },
  "language_info": {
   "codemirror_mode": {
    "name": "ipython",
    "version": 3
   },
   "file_extension": ".py",
   "mimetype": "text/x-python",
   "name": "python",
   "nbconvert_exporter": "python",
   "pygments_lexer": "ipython3",
   "version": "3.7.6"
  }
 },
 "nbformat": 4,
 "nbformat_minor": 5
}
