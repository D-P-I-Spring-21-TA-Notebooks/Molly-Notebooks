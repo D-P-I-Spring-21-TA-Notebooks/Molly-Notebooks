{
 "cells": [
  {
   "cell_type": "markdown",
   "id": "first-lambda",
   "metadata": {},
   "source": [
    "# Objectives"
   ]
  },
  {
   "cell_type": "markdown",
   "id": "painful-absolute",
   "metadata": {},
   "source": [
    "Understand when to use a for loop and when to use a list comprehension."
   ]
  },
  {
   "cell_type": "markdown",
   "id": "lined-colors",
   "metadata": {},
   "source": [
    "Practice iterating over values, over indices, and over both at once. "
   ]
  },
  {
   "cell_type": "markdown",
   "id": "unexpected-planning",
   "metadata": {},
   "source": [
    "Practice nested for loops."
   ]
  },
  {
   "cell_type": "markdown",
   "id": "broke-overview",
   "metadata": {},
   "source": [
    "Exercise 1: Subset a list based on whether or not the list values appear in a second list. "
   ]
  },
  {
   "cell_type": "code",
   "execution_count": 1,
   "id": "attractive-mortality",
   "metadata": {},
   "outputs": [],
   "source": [
    "all_predictors = ['region', 'age', 'race', 'sex', 'educ', 'job_type']\n",
    "not_significant = ['region', 'sex']\n",
    "significant = []"
   ]
  },
  {
   "cell_type": "code",
   "execution_count": 3,
   "id": "cognitive-classification",
   "metadata": {},
   "outputs": [
    {
     "name": "stdout",
     "output_type": "stream",
     "text": [
      "['age', 'race', 'educ', 'job_type']\n"
     ]
    }
   ],
   "source": [
    "for predictor in all_predictors:\n",
    "    if predictor not in not_significant:\n",
    "        significant.append(predictor)\n",
    "print(significant)"
   ]
  },
  {
   "cell_type": "code",
   "execution_count": 4,
   "id": "desperate-airfare",
   "metadata": {},
   "outputs": [
    {
     "name": "stdout",
     "output_type": "stream",
     "text": [
      "['age', 'race', 'educ', 'job_type']\n"
     ]
    }
   ],
   "source": [
    "significant = [p for p in all_predictors if p not in not_significant]\n",
    "print(significant)"
   ]
  },
  {
   "cell_type": "code",
   "execution_count": null,
   "id": "devoted-latitude",
   "metadata": {},
   "outputs": [],
   "source": []
  },
  {
   "cell_type": "code",
   "execution_count": null,
   "id": "usual-savannah",
   "metadata": {},
   "outputs": [],
   "source": []
  },
  {
   "cell_type": "code",
   "execution_count": null,
   "id": "spatial-scope",
   "metadata": {},
   "outputs": [],
   "source": []
  },
  {
   "cell_type": "code",
   "execution_count": null,
   "id": "understanding-testing",
   "metadata": {},
   "outputs": [],
   "source": []
  },
  {
   "cell_type": "markdown",
   "id": "designed-gentleman",
   "metadata": {},
   "source": [
    "Exercise 2: Take a list of singular words and convert them to plural words"
   ]
  },
  {
   "cell_type": "code",
   "execution_count": 5,
   "id": "modified-summer",
   "metadata": {},
   "outputs": [],
   "source": [
    "fruits = ['apple', 'banana', 'strawberry']\n",
    "plural_fruits = []"
   ]
  },
  {
   "cell_type": "code",
   "execution_count": 6,
   "id": "weighted-count",
   "metadata": {},
   "outputs": [
    {
     "name": "stdout",
     "output_type": "stream",
     "text": [
      "['apples', 'bananas', 'strawberries']\n"
     ]
    }
   ],
   "source": [
    "for fruit in fruits:\n",
    "    if fruit[-1] == 'y':\n",
    "        plural = fruit[0:len(fruit)-1] +'ies'\n",
    "    else:\n",
    "        plural = fruit + 's'\n",
    "    plural_fruits.append(plural)\n",
    "print(plural_fruits)"
   ]
  },
  {
   "cell_type": "code",
   "execution_count": null,
   "id": "stretch-delicious",
   "metadata": {},
   "outputs": [],
   "source": []
  },
  {
   "cell_type": "code",
   "execution_count": null,
   "id": "silent-transcription",
   "metadata": {},
   "outputs": [],
   "source": []
  },
  {
   "cell_type": "code",
   "execution_count": null,
   "id": "gothic-mills",
   "metadata": {},
   "outputs": [],
   "source": []
  },
  {
   "cell_type": "code",
   "execution_count": null,
   "id": "prepared-economics",
   "metadata": {},
   "outputs": [],
   "source": []
  },
  {
   "cell_type": "code",
   "execution_count": null,
   "id": "charged-progressive",
   "metadata": {},
   "outputs": [],
   "source": []
  },
  {
   "cell_type": "markdown",
   "id": "forced-nashville",
   "metadata": {},
   "source": [
    "Exercise 3: In a given list, multiply values by 2 if they are located at an odd index."
   ]
  },
  {
   "cell_type": "code",
   "execution_count": 8,
   "id": "british-webcam",
   "metadata": {},
   "outputs": [],
   "source": [
    "my_list = [1, 17, 4, 23, 7, 81]"
   ]
  },
  {
   "cell_type": "code",
   "execution_count": 11,
   "id": "governmental-power",
   "metadata": {},
   "outputs": [
    {
     "name": "stdout",
     "output_type": "stream",
     "text": [
      "0\n",
      "1\n",
      "1\n",
      "17\n",
      "2\n",
      "4\n",
      "3\n",
      "23\n",
      "4\n",
      "7\n",
      "5\n",
      "81\n"
     ]
    }
   ],
   "source": [
    "for i in range(len(my_list)):\n",
    "    print(i)\n",
    "    print(my_list[i])"
   ]
  },
  {
   "cell_type": "code",
   "execution_count": 12,
   "id": "vertical-assessment",
   "metadata": {},
   "outputs": [
    {
     "name": "stdout",
     "output_type": "stream",
     "text": [
      "[1, 34, 4, 46, 7, 162]\n"
     ]
    }
   ],
   "source": [
    "for index, value in enumerate(my_list):\n",
    "    if index%2 != 0:\n",
    "        my_list[index] = value*2\n",
    "print(my_list)"
   ]
  },
  {
   "cell_type": "code",
   "execution_count": null,
   "id": "balanced-painting",
   "metadata": {},
   "outputs": [],
   "source": []
  },
  {
   "cell_type": "code",
   "execution_count": null,
   "id": "silent-cancer",
   "metadata": {},
   "outputs": [],
   "source": []
  },
  {
   "cell_type": "markdown",
   "id": "developmental-niagara",
   "metadata": {},
   "source": [
    "Exercise 4: Iterate over a nested list"
   ]
  },
  {
   "cell_type": "code",
   "execution_count": 13,
   "id": "general-annex",
   "metadata": {},
   "outputs": [],
   "source": [
    "my_array = [[1, 2], [3, 4], [5, 6]]"
   ]
  },
  {
   "cell_type": "code",
   "execution_count": 15,
   "id": "recorded-stable",
   "metadata": {},
   "outputs": [
    {
     "name": "stdout",
     "output_type": "stream",
     "text": [
      "[1, 2]\n",
      "1\n",
      "2\n",
      "[3, 4]\n",
      "3\n",
      "4\n",
      "[5, 6]\n",
      "5\n",
      "6\n"
     ]
    }
   ],
   "source": [
    "for this_list in my_array:\n",
    "    print(this_list)\n",
    "    for value in this_list:\n",
    "        print(value)"
   ]
  },
  {
   "cell_type": "code",
   "execution_count": null,
   "id": "hundred-consumption",
   "metadata": {},
   "outputs": [],
   "source": []
  }
 ],
 "metadata": {
  "kernelspec": {
   "display_name": "Python 3",
   "language": "python",
   "name": "python3"
  },
  "language_info": {
   "codemirror_mode": {
    "name": "ipython",
    "version": 3
   },
   "file_extension": ".py",
   "mimetype": "text/x-python",
   "name": "python",
   "nbconvert_exporter": "python",
   "pygments_lexer": "ipython3",
   "version": "3.7.6"
  }
 },
 "nbformat": 4,
 "nbformat_minor": 5
}
