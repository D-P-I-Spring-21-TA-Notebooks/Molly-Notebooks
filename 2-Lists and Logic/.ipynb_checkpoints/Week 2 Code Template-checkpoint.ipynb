{
 "cells": [
  {
   "cell_type": "markdown",
   "id": "motivated-restoration",
   "metadata": {},
   "source": [
    "# Objectives"
   ]
  },
  {
   "cell_type": "markdown",
   "id": "indonesian-mills",
   "metadata": {},
   "source": [
    "Understand when to use a for loop and when to use a list comprehension."
   ]
  },
  {
   "cell_type": "markdown",
   "id": "necessary-protocol",
   "metadata": {},
   "source": [
    "Practice iterating over values, indices, and both."
   ]
  },
  {
   "cell_type": "markdown",
   "id": "portuguese-penalty",
   "metadata": {},
   "source": [
    "Practice nested for loops."
   ]
  },
  {
   "cell_type": "markdown",
   "id": "pending-baltimore",
   "metadata": {},
   "source": [
    "Exercise 1: Subset a list based on whether or not the list values appear in a second list. "
   ]
  },
  {
   "cell_type": "code",
   "execution_count": 1,
   "id": "italic-nurse",
   "metadata": {},
   "outputs": [],
   "source": [
    "all_predictors = ['region', 'age', 'race', 'sex', 'educ', 'job_type']\n",
    "not_significant = ['region', 'sex']\n",
    "significant = []"
   ]
  },
  {
   "cell_type": "markdown",
   "id": "iraqi-paragraph",
   "metadata": {},
   "source": [
    "Exercise 2: Take a list of singular words and convert them to plural words"
   ]
  },
  {
   "cell_type": "code",
   "execution_count": 5,
   "id": "auburn-mother",
   "metadata": {},
   "outputs": [],
   "source": [
    "fruits = ['apple', 'banana', 'strawberry']\n",
    "plural_fruits = []"
   ]
  },
  {
   "cell_type": "markdown",
   "id": "limited-magazine",
   "metadata": {},
   "source": [
    "Exercise 3: In a given list, multiply values by 2 if they are located at an odd index."
   ]
  },
  {
   "cell_type": "code",
   "execution_count": 4,
   "id": "missing-lease",
   "metadata": {},
   "outputs": [],
   "source": [
    "my_list = [1, 17, 4, 23, 7, 81]"
   ]
  },
  {
   "cell_type": "markdown",
   "id": "varying-partnership",
   "metadata": {},
   "source": [
    "Exercise 4: Iterate over a nested list"
   ]
  },
  {
   "cell_type": "code",
   "execution_count": 2,
   "id": "choice-privacy",
   "metadata": {},
   "outputs": [],
   "source": [
    "my_array = [[1, 2], [3, 4], [5, 6]]"
   ]
  },
  {
   "cell_type": "code",
   "execution_count": null,
   "id": "chinese-candle",
   "metadata": {},
   "outputs": [],
   "source": []
  }
 ],
 "metadata": {
  "kernelspec": {
   "display_name": "Python 3",
   "language": "python",
   "name": "python3"
  },
  "language_info": {
   "codemirror_mode": {
    "name": "ipython",
    "version": 3
   },
   "file_extension": ".py",
   "mimetype": "text/x-python",
   "name": "python",
   "nbconvert_exporter": "python",
   "pygments_lexer": "ipython3",
   "version": "3.7.6"
  }
 },
 "nbformat": 4,
 "nbformat_minor": 5
}
