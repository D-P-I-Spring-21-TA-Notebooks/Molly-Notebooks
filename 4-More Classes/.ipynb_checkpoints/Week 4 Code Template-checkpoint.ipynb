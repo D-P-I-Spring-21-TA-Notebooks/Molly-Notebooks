{
 "cells": [
  {
   "cell_type": "markdown",
   "metadata": {},
   "source": [
    "# Week 4: More Classes"
   ]
  },
  {
   "cell_type": "markdown",
   "metadata": {},
   "source": [
    "### Objectives"
   ]
  },
  {
   "cell_type": "markdown",
   "metadata": {},
   "source": [
    "1. Practice inherited classes\n",
    "2. Demonstrate error checking methods"
   ]
  },
  {
   "cell_type": "code",
   "execution_count": null,
   "metadata": {},
   "outputs": [],
   "source": [
    "class SeaTurtle:\n",
    "    # Define class variables\n",
    "    habitat = 'ocean'\n",
    "    \n",
    "    # Define constructor\n",
    "    def __init__(self, name, age, species):\n",
    "        # Name, age, and species are instance variables\n",
    "        self.name = name\n",
    "        self.age = age\n",
    "        self.species = species\n",
    "    \n",
    "    # Define methods\n",
    "    def introduce(self):\n",
    "        print('Hi! My name is ' + self.name + '. I am a ' + self.species + \\\n",
    "              ' and I am ' + str(self.age) + ' years old.')\n",
    "            \n",
    "    def to_list(self):\n",
    "        attributes = [self.name, self.age, self.species, self.habitat]\n",
    "        return attributes\n",
    "    \n",
    "    def compare_species(self, other):\n",
    "        if (self.species == other.species):\n",
    "            print(self.name + ' and ' + other.name + ' are the same species.')\n",
    "        else:\n",
    "            print(self.name + ' and ' + other.name + ' are not the same species.')"
   ]
  },
  {
   "cell_type": "code",
   "execution_count": null,
   "metadata": {},
   "outputs": [],
   "source": []
  }
 ],
 "metadata": {
  "kernelspec": {
   "display_name": "Python 3",
   "language": "python",
   "name": "python3"
  },
  "language_info": {
   "codemirror_mode": {
    "name": "ipython",
    "version": 3
   },
   "file_extension": ".py",
   "mimetype": "text/x-python",
   "name": "python",
   "nbconvert_exporter": "python",
   "pygments_lexer": "ipython3",
   "version": "3.8.5"
  }
 },
 "nbformat": 4,
 "nbformat_minor": 4
}
