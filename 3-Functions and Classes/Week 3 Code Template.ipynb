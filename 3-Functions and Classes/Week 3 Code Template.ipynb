{
 "cells": [
  {
   "cell_type": "markdown",
   "id": "civil-disability",
   "metadata": {},
   "source": [
    "# Week 3: Functions and Classes"
   ]
  },
  {
   "cell_type": "markdown",
   "id": "institutional-housing",
   "metadata": {},
   "source": [
    "### Notes on Homework 1"
   ]
  },
  {
   "cell_type": "markdown",
   "id": "precise-dallas",
   "metadata": {},
   "source": [
    "- Be sure to read questions carefully!\n",
    "- Try out several different test cases\n",
    "- Assign output to a variable before printing"
   ]
  },
  {
   "cell_type": "code",
   "execution_count": null,
   "id": "chief-personality",
   "metadata": {},
   "outputs": [],
   "source": [
    "# Don't do this\n",
    "x = 5\n",
    "print(x + 1)\n",
    "\n",
    "# Do this\n",
    "x = 5\n",
    "y = x + 1\n",
    "print(y)"
   ]
  },
  {
   "cell_type": "markdown",
   "id": "remarkable-sculpture",
   "metadata": {},
   "source": [
    "### Helpful Resources"
   ]
  },
  {
   "cell_type": "markdown",
   "id": "falling-width",
   "metadata": {},
   "source": [
    "Feedback Form: https://forms.gle/6FfQGAmR68AcDWQ86"
   ]
  },
  {
   "cell_type": "markdown",
   "id": "expanded-stranger",
   "metadata": {},
   "source": [
    "Python Class Documentation: https://docs.python.org/3/tutorial/classes.html"
   ]
  },
  {
   "cell_type": "markdown",
   "id": "standard-dryer",
   "metadata": {},
   "source": [
    "### Lists and List Attributes"
   ]
  },
  {
   "cell_type": "markdown",
   "id": "toxic-rider",
   "metadata": {},
   "source": [
    "Some list attributes: https://docs.python.org/3/tutorial/datastructures.html"
   ]
  },
  {
   "cell_type": "code",
   "execution_count": null,
   "id": "advised-yacht",
   "metadata": {},
   "outputs": [],
   "source": [
    "numbers = [5, 17, 81, 3, 99, 3, 6]"
   ]
  },
  {
   "cell_type": "markdown",
   "id": "brave-princeton",
   "metadata": {},
   "source": [
    "### Creating a Class"
   ]
  },
  {
   "cell_type": "markdown",
   "id": "valuable-blanket",
   "metadata": {},
   "source": [
    "#### Class Variables and Instance Variables"
   ]
  },
  {
   "cell_type": "markdown",
   "id": "documented-today",
   "metadata": {},
   "source": [
    "Class variables are common across all instances of the class. Instance variables can vary. "
   ]
  },
  {
   "cell_type": "code",
   "execution_count": null,
   "id": "superb-german",
   "metadata": {},
   "outputs": [],
   "source": [
    "class SeaTurtle:\n",
    "    pass"
   ]
  }
 ],
 "metadata": {
  "kernelspec": {
   "display_name": "Python 3",
   "language": "python",
   "name": "python3"
  },
  "language_info": {
   "codemirror_mode": {
    "name": "ipython",
    "version": 3
   },
   "file_extension": ".py",
   "mimetype": "text/x-python",
   "name": "python",
   "nbconvert_exporter": "python",
   "pygments_lexer": "ipython3",
   "version": "3.7.6"
  }
 },
 "nbformat": 4,
 "nbformat_minor": 5
}
