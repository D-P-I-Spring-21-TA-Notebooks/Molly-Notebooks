{
 "cells": [
  {
   "cell_type": "markdown",
   "id": "overall-portfolio",
   "metadata": {},
   "source": [
    "# Week 3: Functions and Classes"
   ]
  },
  {
   "cell_type": "markdown",
   "id": "liked-omaha",
   "metadata": {},
   "source": [
    "### Notes on Homework 1"
   ]
  },
  {
   "cell_type": "markdown",
   "id": "raised-fiber",
   "metadata": {},
   "source": [
    "- Be sure to read questions carefully!\n",
    "- Try out several different test cases\n",
    "- Assign output to a variable before printing"
   ]
  },
  {
   "cell_type": "code",
   "execution_count": null,
   "id": "convinced-space",
   "metadata": {},
   "outputs": [],
   "source": []
  },
  {
   "cell_type": "code",
   "execution_count": 2,
   "id": "formal-banks",
   "metadata": {},
   "outputs": [
    {
     "name": "stdout",
     "output_type": "stream",
     "text": [
      "6\n",
      "6\n"
     ]
    }
   ],
   "source": [
    "# Don't do this\n",
    "x = 5\n",
    "print(x + 1)\n",
    "\n",
    "# Do this\n",
    "x = 5\n",
    "y = x + 1\n",
    "print(y)"
   ]
  },
  {
   "cell_type": "markdown",
   "id": "polar-kruger",
   "metadata": {},
   "source": [
    "### Helpful Resources"
   ]
  },
  {
   "cell_type": "markdown",
   "id": "cubic-carter",
   "metadata": {},
   "source": [
    "Feedback Form: https://forms.gle/6FfQGAmR68AcDWQ86"
   ]
  },
  {
   "cell_type": "markdown",
   "id": "nasty-board",
   "metadata": {},
   "source": [
    "Python Class Documentation: https://docs.python.org/3/tutorial/classes.html"
   ]
  },
  {
   "cell_type": "markdown",
   "id": "enabling-default",
   "metadata": {},
   "source": [
    "### Lists and List Attributes"
   ]
  },
  {
   "cell_type": "markdown",
   "id": "professional-nightlife",
   "metadata": {},
   "source": [
    "Some list attributes: https://docs.python.org/3/tutorial/datastructures.html"
   ]
  },
  {
   "cell_type": "code",
   "execution_count": null,
   "id": "missing-refund",
   "metadata": {},
   "outputs": [],
   "source": []
  },
  {
   "cell_type": "markdown",
   "id": "demographic-somewhere",
   "metadata": {},
   "source": [
    "### Creating a Class"
   ]
  },
  {
   "cell_type": "markdown",
   "id": "living-science",
   "metadata": {},
   "source": [
    "#### Class Variables and Instance Variables"
   ]
  },
  {
   "cell_type": "markdown",
   "id": "tight-emission",
   "metadata": {},
   "source": [
    "Class variables are common across all instances of the class. Instance variables can vary. "
   ]
  },
  {
   "cell_type": "code",
   "execution_count": null,
   "id": "detected-regular",
   "metadata": {},
   "outputs": [],
   "source": []
  }
 ],
 "metadata": {
  "kernelspec": {
   "display_name": "Python 3",
   "language": "python",
   "name": "python3"
  },
  "language_info": {
   "codemirror_mode": {
    "name": "ipython",
    "version": 3
   },
   "file_extension": ".py",
   "mimetype": "text/x-python",
   "name": "python",
   "nbconvert_exporter": "python",
   "pygments_lexer": "ipython3",
   "version": "3.7.6"
  }
 },
 "nbformat": 4,
 "nbformat_minor": 5
}
